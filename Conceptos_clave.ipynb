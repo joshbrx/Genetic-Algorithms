{
 "cells": [
  {
   "cell_type": "markdown",
   "metadata": {},
   "source": [
    "# Conceptos clave para entender a los Algorítmos Genéticos\n",
    "\n",
    "Para poder empezar a trabajar con los algorímos genéticos, es necesario poder comprender cada uno de sus pasos, componentes y mecanismos, junto con las diferentes opciones para saber como implementarlo correctamente. "
   ]
  },
  {
   "cell_type": "code",
   "execution_count": 2,
   "metadata": {},
   "outputs": [],
   "source": [
    "from IPython.display import Image\n",
    "from IPython.core.display import HTML "
   ]
  },
  {
   "cell_type": "markdown",
   "metadata": {},
   "source": [
    "### Flujo básico de un Algorítmo Genético"
   ]
  },
  {
   "cell_type": "code",
   "execution_count": 13,
   "metadata": {},
   "outputs": [
    {
     "data": {
      "text/html": [
       "<img src=\"https://github.com/joshbrx/Genetic-Algorithms/blob/main/img/diagrama_flujo.jpg?raw=true\" width=\"200\" height=\"500\"/>"
      ],
      "text/plain": [
       "<IPython.core.display.Image object>"
      ]
     },
     "execution_count": 13,
     "metadata": {},
     "output_type": "execute_result"
    }
   ],
   "source": [
    "Image(url= \"https://github.com/joshbrx/Genetic-Algorithms/blob/main/img/diagrama_flujo.jpg?raw=true\", width=200, height=500)"
   ]
  },
  {
   "cell_type": "markdown",
   "metadata": {},
   "source": [
    "Es importante poder identificar cada proceso de nuestro algoritmo genético, en este caso iniciamos al\n",
    "\n",
    "- **Crear la generación inicial**: Se establecen los individuos de la primera generación de manera aleatoria en su forma de cromosoma para poder trabajar con ellos.\n",
    "\n",
    "- **Calcular el fitness**: Se evalua a cada cromosoma para poder calcular el fitness del individuo para después continuar con los operadores genéticos.\n",
    "\n",
    "- **Aplicar selección, cruzamiento y mutación**: Al aplicar los operadores genéticos sobre la población en función del fitness, se crea una nueva generación de individuos mejores que la generación anterior. El operador selección ayuda a escoger los mejores individuos de la población para darles ventaja en la siguiente generación.\n",
    "\n",
    "- **Checar las condiciones para detenerse**: Se pueden aplicar diferentes criterios para detenerse o repetir este ciclo, como haber pasado el límite de generaciones, no haber encontrado una mejora notable en los individuos, etcétera. \n",
    "\n",
    "- **Escoger mejor individuo**: Se establece al mejor individuo en función del fitness como la solución a este problema."
   ]
  },
  {
   "cell_type": "markdown",
   "metadata": {},
   "source": [
    "### Métodos de Selección\n",
    "\n"
   ]
  },
  {
   "cell_type": "markdown",
   "metadata": {},
   "source": [
    "### Métodos de Cruzamiento"
   ]
  },
  {
   "cell_type": "markdown",
   "metadata": {},
   "source": [
    "### Métodos de Mutación"
   ]
  },
  {
   "cell_type": "markdown",
   "metadata": {},
   "source": [
    "### Algorimos por código"
   ]
  },
  {
   "cell_type": "markdown",
   "metadata": {},
   "source": [
    "### Elitismo"
   ]
  },
  {
   "cell_type": "markdown",
   "metadata": {},
   "source": [
    "### Niching and sharing"
   ]
  },
  {
   "cell_type": "code",
   "execution_count": null,
   "metadata": {},
   "outputs": [],
   "source": []
  }
 ],
 "metadata": {
  "kernelspec": {
   "display_name": "Python 3",
   "language": "python",
   "name": "python3"
  },
  "language_info": {
   "codemirror_mode": {
    "name": "ipython",
    "version": 3
   },
   "file_extension": ".py",
   "mimetype": "text/x-python",
   "name": "python",
   "nbconvert_exporter": "python",
   "pygments_lexer": "ipython3",
   "version": "3.8.3"
  },
  "latex_envs": {
   "LaTeX_envs_menu_present": true,
   "autoclose": false,
   "autocomplete": false,
   "bibliofile": "biblio.bib",
   "cite_by": "apalike",
   "current_citInitial": 1,
   "eqLabelWithNumbers": true,
   "eqNumInitial": 1,
   "hotkeys": {
    "equation": "Ctrl-E",
    "itemize": "Ctrl-I"
   },
   "labels_anchors": false,
   "latex_user_defs": false,
   "report_style_numbering": true,
   "user_envs_cfg": true
  }
 },
 "nbformat": 4,
 "nbformat_minor": 4
}
