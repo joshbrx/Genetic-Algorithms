{
 "cells": [
  {
   "cell_type": "markdown",
   "metadata": {},
   "source": [
    "# ¿Qué son los Algoritmos Genéticos?\n"
   ]
  },
  {
   "cell_type": "markdown",
   "metadata": {},
   "source": [
    "Inspirandose de la teoría de evolución Natural de Charles Darwin, los **Algoritmos Genéticos** surgen como una téctica de la familia de los computo evolutivo para la resolución de problemas.\n",
    "\n",
    "Los algoritmos genéticos son una familia de algoritmos de búsqueda inspirada en los principios de evolución básado en los principios de evolución de la naturaleza con problemas que involucran, búsqueda, optimización y aprendizaje. "
   ]
  },
  {
   "cell_type": "markdown",
   "metadata": {},
   "source": [
    "### Evolución Darwiniana\n",
    "\n",
    "Los algoritmos genéticos implementan una versión simplificada de la evolución darwiniana. Esto se implementa a partir de la implementación de los principios de la teoría de la evolución que son los siguientes:\n",
    "\n",
    "-**Principio de variación**: Los atributos de individuos dentro de una población pueden variar. Como resultado, los especímenes se diferencian de otros en cierto grado, por ejemplo, en su comportamiento o apariencia.\n",
    "\n",
    "-**Principio de herencia**: Algunos de los atributos de los endividuos pasan a su descendencia. Como resultado, la desendencia se parece más a los padres que a especímenes no relacionados.\n",
    "\n",
    "-**Principio de selección**: A la población se le dificulta el obtener recursos de su entorno. Los especímenes que poseen atributos con los que se adaptan mejor su entorno serán más exitosos en términos de supervivencia, y por tanto, contribuirán más a la descendencia de la siguiente generación.\n",
    "\n",
    "De estos principios podemos ver que el proceso evolutivo mantiene una población de individuos que varían entre ellos. Aquellos que se adapten mejor al entorno tendrán una mayor probabilidad de sobrevivir y dejar descendencia, con la que dejarán sus atributos a la siguiente generación. De esta manera, con cada generación se adaptan mejor las especies a los retos del ambiente.\n",
    "\n",
    "Un concepto importante para implementar la evolución es la **recombinación**, donde los individuos son enegendrados a con una mezcla de los atributos de los padres. Esto ayuda a mantener la diversidad en la población. Además, las **mutaciones** (variaciones aleatorias en los atributos) juegan un rol importante en la evolución al introducir cambios que resiltan en un salto evolutivo cada cierto tiempo."
   ]
  },
  {
   "cell_type": "markdown",
   "metadata": {},
   "source": [
    "### Genotipo"
   ]
  },
  {
   "cell_type": "markdown",
   "metadata": {},
   "source": [
    "### Población"
   ]
  },
  {
   "cell_type": "markdown",
   "metadata": {},
   "source": [
    "### Selección"
   ]
  },
  {
   "cell_type": "markdown",
   "metadata": {},
   "source": [
    "### Recombinación"
   ]
  },
  {
   "cell_type": "markdown",
   "metadata": {},
   "source": [
    "### Teoría detrás de los algorítmos genéticos"
   ]
  },
  {
   "cell_type": "markdown",
   "metadata": {},
   "source": [
    "### The Schema Theorem"
   ]
  },
  {
   "cell_type": "code",
   "execution_count": null,
   "metadata": {},
   "outputs": [],
   "source": []
  }
 ],
 "metadata": {
  "kernelspec": {
   "display_name": "Python 3",
   "language": "python",
   "name": "python3"
  },
  "language_info": {
   "codemirror_mode": {
    "name": "ipython",
    "version": 3
   },
   "file_extension": ".py",
   "mimetype": "text/x-python",
   "name": "python",
   "nbconvert_exporter": "python",
   "pygments_lexer": "ipython3",
   "version": "3.8.3"
  },
  "latex_envs": {
   "LaTeX_envs_menu_present": true,
   "autoclose": false,
   "autocomplete": false,
   "bibliofile": "biblio.bib",
   "cite_by": "apalike",
   "current_citInitial": 1,
   "eqLabelWithNumbers": true,
   "eqNumInitial": 1,
   "hotkeys": {
    "equation": "Ctrl-E",
    "itemize": "Ctrl-I"
   },
   "labels_anchors": false,
   "latex_user_defs": false,
   "report_style_numbering": true,
   "user_envs_cfg": true
  }
 },
 "nbformat": 4,
 "nbformat_minor": 4
}
